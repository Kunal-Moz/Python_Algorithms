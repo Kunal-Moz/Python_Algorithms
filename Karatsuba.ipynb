{
 "cells": [
  {
   "cell_type": "code",
   "execution_count": 1,
   "metadata": {},
   "outputs": [],
   "source": [
    "import math\n",
    "import numpy as np\n"
   ]
  },
  {
   "cell_type": "code",
   "execution_count": 16,
   "metadata": {},
   "outputs": [],
   "source": [
    "def karatsuba(x,y):\n",
    "    if x < 10 or y < 10:\n",
    "        z = x*y\n",
    "    else :\n",
    "        x_s = str(x)\n",
    "        y_s = str(y)\n",
    "        \n",
    "        n = max(len(x_s), len(y_s))\n",
    "        m = n//2    \n",
    "    \n",
    "        x1 = int(x_s[:-m])\n",
    "        x2 = int(x_s[-m:])\n",
    "        y1 = int(y_s[:-m])\n",
    "        y2 = int(y_s[-m:])\n",
    "#         print(x1,x2,y1,y2)\n",
    "        \n",
    "        a = karatsuba(x1,y1)\n",
    "        b = karatsuba(x2,y2)\n",
    "        c = karatsuba(x1 + x2, y1 + y2) - a - b\n",
    "        \n",
    "        z = a*10**(2*m) + c*10**(m) + b\n",
    "    return z  \n",
    "        \n",
    "        "
   ]
  },
  {
   "cell_type": "code",
   "execution_count": 18,
   "metadata": {},
   "outputs": [
    {
     "name": "stdout",
     "output_type": "stream",
     "text": [
      "8539734222673567065463550869546574495034888535765114961879601127067743044893204848617875072216249073013374895871952806582723184\n"
     ]
    }
   ],
   "source": [
    "x = 3141592653589793238462643383279502884197169399375105820974944592\n",
    "y = 2718281828459045235360287471352662497757247093699959574966967627\n",
    "\n",
    "# print(x, y, karatsuba(x,y), x*y) \n",
    "print(karatsuba(x,y))"
   ]
  },
  {
   "cell_type": "code",
   "execution_count": null,
   "metadata": {},
   "outputs": [],
   "source": []
  }
 ],
 "metadata": {
  "kernelspec": {
   "display_name": "Python 3",
   "language": "python",
   "name": "python3"
  },
  "language_info": {
   "codemirror_mode": {
    "name": "ipython",
    "version": 3
   },
   "file_extension": ".py",
   "mimetype": "text/x-python",
   "name": "python",
   "nbconvert_exporter": "python",
   "pygments_lexer": "ipython3",
   "version": "3.8.5"
  }
 },
 "nbformat": 4,
 "nbformat_minor": 4
}
